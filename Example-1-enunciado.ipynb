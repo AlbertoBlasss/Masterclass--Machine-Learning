{
 "cells": [
  {
   "cell_type": "markdown",
   "id": "4d42efe8-22a4-49cb-9740-d0f22343c1e5",
   "metadata": {},
   "source": [
    "# Machine Learning Master Class\n",
    "\n",
    "## Classification example\n",
    "\n",
    "In this notebook we address the problem of predicting the probability of claims, a critical task for risk assessment and policy pricing. Thus, based on certain features such as the type of insurance policy, the duration for which the insurance policy is active or the age of the policyholder and the vehicle, we try to predict whether each case is susceptible (1) or not (0) of a claim.\n",
    "\n",
    "To tackle this problem we will follow the typical Machine Learning pipeline, in which the following steps are performed:\n",
    "1. Data loading\n",
    "2. Exploratory analysis of the data\n",
    "3. Preprocessing of the data\n",
    "4. Model training\n",
    "5. Model evaluation and benchmarking\n",
    "6. Final model selection."
   ]
  },
  {
   "cell_type": "code",
   "execution_count": 1,
   "id": "1507fae3-819b-47b1-b770-a53cbbe3f162",
   "metadata": {},
   "outputs": [],
   "source": [
    "SEED = 1"
   ]
  },
  {
   "cell_type": "markdown",
   "id": "da22c6d6-acd2-4078-bc72-ab262d6b81ed",
   "metadata": {},
   "source": [
    "# 1. Loading the data\n",
    "\n",
    "Read the data stored in ``data/Insurance claims data.csv``. Inspect and determine how many samples does the database consist of"
   ]
  },
  {
   "cell_type": "code",
   "execution_count": null,
   "id": "5cda4acc-96c0-4b2c-8849-99ed4b9a7490",
   "metadata": {},
   "outputs": [],
   "source": []
  },
  {
   "cell_type": "markdown",
   "id": "0c01f001-8ab8-4082-a563-04eccf3e1bab",
   "metadata": {},
   "source": [
    "## 2. Exploratory Data Analysis\n",
    "Analyze the main statistics of the dataset and represent the estimated distribution of the following variables: ``subcription_length``, ``vehicle_age``, ``customer_age``, ``region_code``, ``segment`` and ``fuel_type``. What are the main differences between these variables?"
   ]
  },
  {
   "cell_type": "markdown",
   "id": "3d836c8a-bc7a-45ce-9166-82baec5cad63",
   "metadata": {},
   "source": [
    "### Statistics"
   ]
  },
  {
   "cell_type": "code",
   "execution_count": null,
   "id": "40f0d43b-214b-4566-bda5-716f5c057a2e",
   "metadata": {},
   "outputs": [],
   "source": []
  },
  {
   "cell_type": "markdown",
   "id": "7e6abad7-49ab-44f0-a911-433461e8a60a",
   "metadata": {},
   "source": [
    "### Distributions"
   ]
  },
  {
   "cell_type": "code",
   "execution_count": 2,
   "id": "294584e6-c788-4816-bd9b-cc4e6883dfe3",
   "metadata": {},
   "outputs": [],
   "source": [
    "import matplotlib.pyplot as plt\n",
    "import seaborn as sns"
   ]
  },
  {
   "cell_type": "markdown",
   "id": "3967c951-f05d-45c3-97e5-593b537419e8",
   "metadata": {},
   "source": [
    "**Distribution of numerical variables**"
   ]
  },
  {
   "cell_type": "code",
   "execution_count": null,
   "id": "5dccbabb-f34c-4d97-af8b-de6d93e510d8",
   "metadata": {},
   "outputs": [],
   "source": []
  },
  {
   "cell_type": "markdown",
   "id": "2a13f842-038e-4ffe-ba22-31b5123f4812",
   "metadata": {},
   "source": [
    "**Distribution of categorical variables**"
   ]
  },
  {
   "cell_type": "code",
   "execution_count": null,
   "id": "f8ae4441-5ac4-4a95-9f67-cedf6c351aa7",
   "metadata": {},
   "outputs": [],
   "source": []
  },
  {
   "cell_type": "markdown",
   "id": "6f8c6583-b76f-49c3-a253-a849f62ff86a",
   "metadata": {},
   "source": [
    "**Distribution of target variable**\n",
    "\n",
    "Represent the distribution of the target variable. What can we conclude from the distribution of the target variable? Is that a problem for a classification model? If yes how can we solve it?"
   ]
  },
  {
   "cell_type": "code",
   "execution_count": null,
   "id": "bb883443-5222-458f-b62b-b732a438db6e",
   "metadata": {},
   "outputs": [],
   "source": []
  },
  {
   "cell_type": "markdown",
   "id": "ebd54189-9150-4051-91be-2a308530e06b",
   "metadata": {},
   "source": [
    "## 3. Data transformations / pre-processing\n",
    "In this section we transform the data in order to accomodate it to the ML models. This section usually involves processes such as balancing the database, encoding, feature selection or normalization.\n",
    "\n",
    "### Balancing the database\n",
    "Balance the database in order to have the same values of ``claim_status=1`` than ``claim_status=0``. Use upsampling to increment the number of samples of the minor class. Represent the previous distributions with the balanced database."
   ]
  },
  {
   "cell_type": "code",
   "execution_count": null,
   "id": "e05e0966-bfcd-44f6-9b44-584542f17ab0",
   "metadata": {},
   "outputs": [],
   "source": []
  },
  {
   "cell_type": "markdown",
   "id": "cc798566-5054-4274-96ee-9d65bafc7eca",
   "metadata": {},
   "source": [
    "### Data Transformation\n",
    "\n",
    "In order to accommodate data to the ML models that are going to be trained and evaluated, transform the categorical variables into numerical variables using LabelEncoder."
   ]
  },
  {
   "cell_type": "code",
   "execution_count": null,
   "id": "7083d468-523d-463c-8cbc-e15ff83c4fe4",
   "metadata": {},
   "outputs": [],
   "source": []
  },
  {
   "cell_type": "markdown",
   "id": "892b7b38-4cf3-46d9-bff7-18a68dd7c881",
   "metadata": {},
   "source": [
    "### Feature Selection\n",
    "To avoid the *curse of dimensionaliry*, Feature selection allows us to select the most relevant features for the prediction of the target variable. Select the top 5 most relevant features "
   ]
  },
  {
   "cell_type": "code",
   "execution_count": null,
   "id": "ec3ef544-bd12-484e-bbee-9b5028bfc22d",
   "metadata": {},
   "outputs": [],
   "source": []
  },
  {
   "cell_type": "markdown",
   "id": "830bcc7a-4d7e-4681-abc2-d6e5801a72cb",
   "metadata": {},
   "source": [
    "## 4. Model Training\n",
    "\n",
    "Split the dataset into a train and test with a 70-30 proportion respectively. Train a Random Forest classifier with the train set."
   ]
  },
  {
   "cell_type": "code",
   "execution_count": null,
   "id": "7c3ce163-d92e-4c24-9460-148357f0babf",
   "metadata": {},
   "outputs": [],
   "source": []
  },
  {
   "cell_type": "markdown",
   "id": "55afdae1-99c1-47e2-a15f-ca42cdfabcd0",
   "metadata": {},
   "source": [
    "## 5. Model Evaluation\n",
    "Evaluate the model previously trained determining:\n",
    "1. Precision\n",
    "2. Recall\n",
    "3. F1-score\n",
    "4. Confusion Matrix: TP, FP, TN, FN\n",
    "5. ROC Curve"
   ]
  },
  {
   "cell_type": "markdown",
   "id": "71890e6e-eec8-45c1-9a39-2e04fe8e2005",
   "metadata": {},
   "source": [
    "### Obtaining the predictions"
   ]
  },
  {
   "cell_type": "code",
   "execution_count": null,
   "id": "e10e32c6-b1f4-4d26-acfa-c4d8a9b85325",
   "metadata": {},
   "outputs": [],
   "source": []
  },
  {
   "cell_type": "markdown",
   "id": "081465e1-f9bf-4b41-831e-05ae3d9bbc29",
   "metadata": {},
   "source": [
    "### Classification report (Prec, Recall, F1-score, Accuracy)"
   ]
  },
  {
   "cell_type": "code",
   "execution_count": null,
   "id": "f746e0a6-2ccd-4781-8dac-be24ae38d460",
   "metadata": {},
   "outputs": [],
   "source": []
  },
  {
   "cell_type": "markdown",
   "id": "20144447-ba56-456d-875b-d82d54e84e2c",
   "metadata": {},
   "source": [
    "### Confusion Matrix"
   ]
  },
  {
   "cell_type": "code",
   "execution_count": null,
   "id": "7771a49f-4024-4301-b98a-cf6a492a0600",
   "metadata": {},
   "outputs": [],
   "source": []
  },
  {
   "cell_type": "markdown",
   "id": "d1fa6fe7-0b4d-4921-ba0a-338f8f86473e",
   "metadata": {},
   "source": [
    "### ROC Curve"
   ]
  },
  {
   "cell_type": "code",
   "execution_count": 3,
   "id": "c87b17b3-17ff-48db-a92f-7f20af772ae7",
   "metadata": {},
   "outputs": [],
   "source": [
    "from sklearn.metrics import roc_curve, auc"
   ]
  },
  {
   "cell_type": "code",
   "execution_count": null,
   "id": "39f0df7e-8500-4843-8114-d6479c898d56",
   "metadata": {},
   "outputs": [],
   "source": []
  },
  {
   "cell_type": "markdown",
   "id": "7abce6e8-373a-4cce-907b-57eed2394c0e",
   "metadata": {},
   "source": [
    "Do you consider that the evaluation methodology followed is rigorous and reliable? Why? What aspects can be improved?"
   ]
  },
  {
   "cell_type": "code",
   "execution_count": null,
   "id": "eba3dfe9-0472-468c-a46e-1774058f1e60",
   "metadata": {},
   "outputs": [],
   "source": []
  }
 ],
 "metadata": {
  "kernelspec": {
   "display_name": "Python 3.8 - AzureML",
   "language": "python",
   "name": "python38-azureml"
  },
  "language_info": {
   "codemirror_mode": {
    "name": "ipython",
    "version": 3
   },
   "file_extension": ".py",
   "mimetype": "text/x-python",
   "name": "python",
   "nbconvert_exporter": "python",
   "pygments_lexer": "ipython3",
   "version": "3.8.5"
  }
 },
 "nbformat": 4,
 "nbformat_minor": 5
}
