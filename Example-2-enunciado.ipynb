{
 "cells": [
  {
   "cell_type": "markdown",
   "id": "b73978b8-af28-4a6a-82db-67a7f2f05364",
   "metadata": {},
   "source": [
    "# Machine Learning Master Class\n",
    "\n",
    "## Regression example\n",
    "\n",
    "In this notebook we address the task defined by the [California housing dataset](https://inria.github.io/scikit-learn-mooc/python_scripts/datasets_california_housing.html) where we aim at predicting the prices of houses in california given the some features regarding its size and location.\n",
    "\n",
    "To tackle this problem we will follow the typical Machine Learning pipeline, in which the following steps are performed:\n",
    "1. Data loading\n",
    "2. Exploratory analysis of the data\n",
    "3. Preprocessing of the data\n",
    "4. Model training\n",
    "5. Model evaluation and benchmarking\n",
    "6. Final model selection."
   ]
  },
  {
   "cell_type": "code",
   "execution_count": 1,
   "id": "a419a8a5-be74-4c24-8197-7c30e4923dce",
   "metadata": {},
   "outputs": [],
   "source": [
    "SEED = 1"
   ]
  },
  {
   "cell_type": "markdown",
   "id": "988b2e12-7caf-47bb-856b-6d9170b32678",
   "metadata": {},
   "source": [
    "# 1. Loading the data\n",
    "\n",
    "Read the dataset using the ``sklearn.datasets.fetch_california_housing`` function. Inspect and determine how many samples does the database consist of."
   ]
  },
  {
   "cell_type": "code",
   "execution_count": null,
   "id": "58e62dfc-c15f-4afc-b246-9a8e1f4e6595",
   "metadata": {},
   "outputs": [],
   "source": []
  },
  {
   "cell_type": "markdown",
   "id": "c9f93292-a04c-42c4-b584-925aad792129",
   "metadata": {},
   "source": [
    "## 2. Exploratory Data Analysis\n",
    "Analyze the main statistics of the dataset and represent the correlation matrix of the variables. Analyze the correlation of the variables with the target variable."
   ]
  },
  {
   "cell_type": "markdown",
   "id": "aaf4388d-4e92-4d29-aec6-f5c837442074",
   "metadata": {},
   "source": [
    "### Statistics"
   ]
  },
  {
   "cell_type": "code",
   "execution_count": null,
   "id": "52f05f0c-b17c-43e7-9504-2c7f8511cb2d",
   "metadata": {},
   "outputs": [],
   "source": []
  },
  {
   "cell_type": "markdown",
   "id": "84c7f2c9-1d39-4dfc-aa38-bf2e2f354af4",
   "metadata": {},
   "source": [
    "### Scatter Correlation Matrix\n",
    "Representation that allows to analyze the correlation between the variables of the dataset using scatter plots. Note that this matrix is simmetrical. Additionally, it represents the marginal distribution of each variable in its diagonal. Wh"
   ]
  },
  {
   "cell_type": "code",
   "execution_count": null,
   "id": "0ed56376-ea35-4ca1-9181-df9dc3ad7be2",
   "metadata": {},
   "outputs": [],
   "source": []
  },
  {
   "cell_type": "markdown",
   "id": "930e739a-9fcb-464a-98c3-27a4233074a6",
   "metadata": {},
   "source": [
    "### Correlation matrix"
   ]
  },
  {
   "cell_type": "code",
   "execution_count": null,
   "id": "b65c8dda-f084-4c23-93bb-540a3ef65763",
   "metadata": {},
   "outputs": [],
   "source": []
  },
  {
   "cell_type": "markdown",
   "id": "06391ac4-be43-4eb9-a1e2-7c68a9588af2",
   "metadata": {},
   "source": [
    "## 3. Data transformations / pre-processing\n",
    "In this section we transform the data in order to accomodate it to the ML models. This section usually involves processes such as balancing the database, encoding, feature selection or normalization.\n",
    "\n",
    "### Split the database\n",
    "Split the database in train, validation and test sets with proportions 60%, 20% and 20% respectively."
   ]
  },
  {
   "cell_type": "code",
   "execution_count": null,
   "id": "99730ead-a674-41ed-b272-a9bcf408601c",
   "metadata": {},
   "outputs": [],
   "source": []
  },
  {
   "cell_type": "markdown",
   "id": "2191b335-ae74-4457-8f68-189f67428ff8",
   "metadata": {},
   "source": [
    "### Normalization\n",
    "\n",
    "Normalize the dataset with 0 mean and unit variance, with the following formula:\n",
    "\n",
    "$$x' = \\frac{x-\\mu}{\\sigma}$$"
   ]
  },
  {
   "cell_type": "code",
   "execution_count": null,
   "id": "d171e896-c594-4061-9486-329c2aacc2af",
   "metadata": {},
   "outputs": [],
   "source": []
  },
  {
   "cell_type": "markdown",
   "id": "fa6fff23-08c6-4fa7-bcc7-7bcf836d70de",
   "metadata": {},
   "source": [
    "## 4. Model Training - Evaluation - Benchmarking \n",
    "\n",
    "Use the training set to train a the following models:\n",
    "1. Linear Regression\n",
    "2. Decision Tree\n",
    "3. Random Forest\n",
    "4. Gradient Boosting\n",
    "\n",
    "Evaluate the generalization capabilities of the model trained using the validation set using the *Mean Absolute Error* (MAE), *root mean squared error* (RMSE) and $R^2$ error"
   ]
  },
  {
   "cell_type": "code",
   "execution_count": null,
   "id": "dfbc8215-7b72-4bca-afc2-5c00a4d29de6",
   "metadata": {},
   "outputs": [],
   "source": []
  },
  {
   "cell_type": "markdown",
   "id": "394deadd-3f25-4906-8080-2a636e8413ca",
   "metadata": {},
   "source": [
    "## Model Selection"
   ]
  },
  {
   "cell_type": "code",
   "execution_count": null,
   "id": "1419e86a-dd6c-43dc-b380-1573599469d5",
   "metadata": {},
   "outputs": [],
   "source": []
  },
  {
   "cell_type": "markdown",
   "id": "fa132552-b810-49d0-bb9d-562c113f6090",
   "metadata": {},
   "source": [
    "## Evaluation with cross validation"
   ]
  },
  {
   "cell_type": "markdown",
   "id": "b58b4f46-9d75-4169-af6c-f12f603679f6",
   "metadata": {},
   "source": [
    "Repeat the previous process but using a cross validation scheme with 5 iterations"
   ]
  },
  {
   "cell_type": "code",
   "execution_count": null,
   "id": "70fed107-02d3-4562-9f7e-3e656f544bb6",
   "metadata": {},
   "outputs": [],
   "source": []
  },
  {
   "cell_type": "markdown",
   "id": "dc9db30c-a8f3-423e-aafe-b85038fce7a3",
   "metadata": {},
   "source": [
    "## Final evaluation over test set\n",
    "\n",
    "Select the best model from the previous evaluation and evaluate it in the evaluation dataset."
   ]
  },
  {
   "cell_type": "code",
   "execution_count": null,
   "id": "d1058c5b-1f2b-4b47-ad84-cf57c2d17ccb",
   "metadata": {},
   "outputs": [],
   "source": []
  }
 ],
 "metadata": {
  "kernelspec": {
   "display_name": "Python 3.8 - AzureML",
   "language": "python",
   "name": "python38-azureml"
  },
  "language_info": {
   "codemirror_mode": {
    "name": "ipython",
    "version": 3
   },
   "file_extension": ".py",
   "mimetype": "text/x-python",
   "name": "python",
   "nbconvert_exporter": "python",
   "pygments_lexer": "ipython3",
   "version": "3.8.5"
  }
 },
 "nbformat": 4,
 "nbformat_minor": 5
}
